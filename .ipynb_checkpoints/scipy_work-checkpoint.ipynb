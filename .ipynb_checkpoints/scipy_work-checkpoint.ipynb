{
 "cells": [
  {
   "cell_type": "code",
   "execution_count": 38,
   "metadata": {
    "collapsed": false
   },
   "outputs": [],
   "source": [
    "import scipy as sp\n",
    "import numpy as np\n",
    "data = sp.genfromtxt(\"WT001.csv\", delimiter=\",\", names=True)"
   ]
  },
  {
   "cell_type": "code",
   "execution_count": 39,
   "metadata": {
    "collapsed": false
   },
   "outputs": [
    {
     "name": "stdout",
     "output_type": "stream",
     "text": [
      "(5652,)\n"
     ]
    }
   ],
   "source": [
    "print sp.shape(data)"
   ]
  },
  {
   "cell_type": "code",
   "execution_count": 40,
   "metadata": {
    "collapsed": false
   },
   "outputs": [],
   "source": [
    "import matplotlib.pyplot as plt"
   ]
  },
  {
   "cell_type": "code",
   "execution_count": 41,
   "metadata": {
    "collapsed": false
   },
   "outputs": [
    {
     "data": {
      "image/png": "[encoded data removed]",
      "text/plain": [
       "<matplotlib.figure.Figure at 0x11623c0d0>"
      ]
     },
     "metadata": {},
     "output_type": "display_data"
    }
   ],
   "source": [
    "plt.scatter(data['timestamp'], data['WT001_WIND_DIRECTION'])\n",
    "plt.title(\"Active power of over 2 months\")\n",
    "plt.xlabel(\"Time\")\n",
    "plt.ylabel(\"Active Power\")\n",
    "plt.autoscale(tight=True)\n",
    "plt.grid()\n",
    "plt.show()"
   ]
  },
  {
   "cell_type": "code",
   "execution_count": 42,
   "metadata": {
    "collapsed": false
   },
   "outputs": [],
   "source": [
    "x = data['WT001_WIND_DIRECTION']\n",
    "y = data['WT001_ACTIVE_POWER']\n",
    "plt.scatter(x, y)\n",
    "plt.title(\"Active power of over 2 months\")\n",
    "plt.xlabel(\"Wind Direction\")\n",
    "plt.ylabel(\"Active Power\")\n",
    "plt.autoscale(tight=True)\n",
    "plt.grid()"
   ]
  },
  {
   "cell_type": "code",
   "execution_count": 43,
   "metadata": {
    "collapsed": true
   },
   "outputs": [],
   "source": [
    "def error(f, x, y):\n",
    "    return sp.sum((f(x)-y)**2)"
   ]
  },
  {
   "cell_type": "code",
   "execution_count": 44,
   "metadata": {
    "collapsed": false
   },
   "outputs": [
    {
     "name": "stdout",
     "output_type": "stream",
     "text": [
      "Model parameters: [   3.252576    862.60615472]\n"
     ]
    }
   ],
   "source": [
    "fp1, residuals, rank, sv, rcond = sp.polyfit(x, y, 1, full=True)\n",
    "print(\"Model parameters: %s\" % fp1)"
   ]
  },
  {
   "cell_type": "code",
   "execution_count": 45,
   "metadata": {
    "collapsed": false
   },
   "outputs": [
    {
     "name": "stdout",
     "output_type": "stream",
     "text": [
      "[  2.94275761e+09]\n"
     ]
    }
   ],
   "source": [
    "print residuals\n",
    "\n",
    "f = 2.59619213 * x + 989.02487106"
   ]
  },
  {
   "cell_type": "code",
   "execution_count": 46,
   "metadata": {
    "collapsed": true
   },
   "outputs": [],
   "source": [
    "f1 = sp.poly1d(fp1)"
   ]
  },
  {
   "cell_type": "code",
   "execution_count": 47,
   "metadata": {
    "collapsed": false
   },
   "outputs": [
    {
     "name": "stdout",
     "output_type": "stream",
     "text": [
      "2942757614.54\n"
     ]
    }
   ],
   "source": [
    "print(error(f1, x, y))"
   ]
  },
  {
   "cell_type": "code",
   "execution_count": 48,
   "metadata": {
    "collapsed": false
   },
   "outputs": [
    {
     "data": {
      "text/plain": [
       "<matplotlib.legend.Legend at 0x115f2dc10>"
      ]
     },
     "execution_count": 48,
     "metadata": {},
     "output_type": "execute_result"
    }
   ],
   "source": [
    "fx = sp.linspace(0,x[-1], 1000) # generate X-values for plotting\n",
    "plt.plot(fx, f1(fx), linewidth=4)\n",
    "plt.legend([\"d=%i\" % f1.order], loc=\"upper left\")\n"
   ]
  },
  {
   "cell_type": "code",
   "execution_count": 49,
   "metadata": {
    "collapsed": false
   },
   "outputs": [
    {
     "name": "stdout",
     "output_type": "stream",
     "text": [
      "[   3.252576    862.60615472]\n"
     ]
    }
   ],
   "source": [
    "f2p = sp.polyfit(x, y, 1)\n",
    "print(f2p)"
   ]
  },
  {
   "cell_type": "code",
   "execution_count": 50,
   "metadata": {
    "collapsed": true
   },
   "outputs": [],
   "source": [
    "f2 = sp.poly1d(f2p)"
   ]
  },
  {
   "cell_type": "code",
   "execution_count": 51,
   "metadata": {
    "collapsed": false
   },
   "outputs": [
    {
     "name": "stdout",
     "output_type": "stream",
     "text": [
      "2942757614.54\n"
     ]
    }
   ],
   "source": [
    "print(error(f2, x, y))"
   ]
  },
  {
   "cell_type": "code",
   "execution_count": 52,
   "metadata": {
    "collapsed": false
   },
   "outputs": [
    {
     "data": {
      "image/png": "[encoded data removed]",
      "text/plain": [
       "<matplotlib.figure.Figure at 0x115f2d690>"
      ]
     },
     "metadata": {},
     "output_type": "display_data"
    }
   ],
   "source": [
    "fx = sp.linspace(0,x[1], 1000) # generate X-values for plotting\n",
    "plt.plot(fx, f2(fx), linewidth=4)\n",
    "plt.legend([\"d=%i\" % f2.order], loc=\"upper left\")\n",
    "plt.show()"
   ]
  },
  {
   "cell_type": "code",
   "execution_count": 53,
   "metadata": {
    "collapsed": false
   },
   "outputs": [
    {
     "name": "stdout",
     "output_type": "stream",
     "text": [
      "Error inflection=2925647603.508437\n"
     ]
    }
   ],
   "source": [
    "inflection1 = -25\n",
    "inflection2 = 25\n",
    "xa = x[:inflection1]\n",
    "ya = y[:inflection1]\n",
    "\n",
    "# xb = x[inflection1:inflection2] # data after\n",
    "# yb = y[inflection1:inflection2]\n",
    "\n",
    "# print ya\n",
    "# print xb\n",
    "xc = x[inflection2:] \n",
    "yc = y[inflection2:]\n",
    "\n",
    "fa = sp.poly1d(sp.polyfit(xa, ya, 1))\n",
    "# fb = sp.poly1d(sp.polyfit(xb, yb, 1))\n",
    "fc = sp.poly1d(sp.polyfit(xc, yc, 1))\n",
    "\n",
    "fa_error = error(fa, xa, ya)\n",
    "# fb_error = error(fb, xb, yb)\n",
    "fc_error = error(fc, xc, yc)\n",
    "\n",
    "print(\"Error inflection=%f\" % (fc_error))"
   ]
  },
  {
   "cell_type": "code",
   "execution_count": 54,
   "metadata": {
    "collapsed": false
   },
   "outputs": [
    {
     "name": "stdout",
     "output_type": "stream",
     "text": [
      "1850.7 179.2\n"
     ]
    }
   ],
   "source": [
    "print max(y), max(x)"
   ]
  },
  {
   "cell_type": "code",
   "execution_count": 67,
   "metadata": {
    "collapsed": false
   },
   "outputs": [
    {
     "data": {
      "image/png": "[encoded data removed]",
      "text/plain": [
       "<matplotlib.figure.Figure at 0x1162c5e90>"
      ]
     },
     "metadata": {},
     "output_type": "display_data"
    }
   ],
   "source": [
    "\n",
    "plt.scatter(data['WT001_WIND_SPEED'], data['WT001_ACTIVE_POWER'] <= 0)\n",
    "plt.title(\"Active power wind speeds\")\n",
    "plt.xlabel(\"Wind Speed\")\n",
    "plt.ylabel(\"Active Power\")\n",
    "plt.autoscale(tight=True)\n",
    "plt.grid()\n",
    "plt.show()"
   ]
  },
  {
   "cell_type": "code",
   "execution_count": 68,
   "metadata": {
    "collapsed": false
   },
   "outputs": [
    {
     "name": "stdout",
     "output_type": "stream",
     "text": [
      "1083\n"
     ]
    }
   ],
   "source": [
    "print sum(data['WT001_ACTIVE_POWER'] <= 0)"
   ]
  },
  {
   "cell_type": "code",
   "execution_count": 74,
   "metadata": {
    "collapsed": false
   },
   "outputs": [
    {
     "data": {
      "image/png": "[encoded data removed]",
      "text/plain": [
       "<matplotlib.figure.Figure at 0x11601bb10>"
      ]
     },
     "metadata": {},
     "output_type": "display_data"
    }
   ],
   "source": [
    "x = []\n",
    "y = []\n",
    "for d in data:\n",
    "    if d['WT001_ACTIVE_POWER'] <= 0:\n",
    "        x.append(d['WT001_WIND_DIRECTION'])\n",
    "        y.append(d['WT001_ACTIVE_POWER'])\n",
    "\n",
    "plt.scatter(x, y)\n",
    "plt.title(\"Active power with wind direction\")\n",
    "plt.xlabel(\"Wind Direction\")\n",
    "plt.ylabel(\"Negative Active Power\")\n",
    "plt.autoscale(tight=True)\n",
    "plt.grid()\n",
    "plt.show()"
   ]
  },
  {
   "cell_type": "code",
   "execution_count": null,
   "metadata": {
    "collapsed": true
   },
   "outputs": [],
   "source": []
  }
 ],
 "metadata": {
  "kernelspec": {
   "display_name": "Python 2",
   "language": "python",
   "name": "python2"
  },
  "language_info": {
   "codemirror_mode": {
    "name": "ipython",
    "version": 2
   },
   "file_extension": ".py",
   "mimetype": "text/x-python",
   "name": "python",
   "nbconvert_exporter": "python",
   "pygments_lexer": "ipython2",
   "version": "2.7.13"
  }
 },
 "nbformat": 4,
 "nbformat_minor": 2
}
